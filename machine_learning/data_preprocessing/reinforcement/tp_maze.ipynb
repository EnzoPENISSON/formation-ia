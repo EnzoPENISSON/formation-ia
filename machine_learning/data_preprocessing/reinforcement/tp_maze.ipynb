{
 "cells": [
  {
   "cell_type": "code",
   "id": "initial_id",
   "metadata": {
    "collapsed": true,
    "ExecuteTime": {
     "end_time": "2024-11-07T13:24:00.778496Z",
     "start_time": "2024-11-07T13:24:00.556713Z"
    }
   },
   "source": [
    "import numpy as np\n",
    "from scipy.fft import ifft2\n",
    "\n",
    "# 0: chemin libre\n",
    "# 1: mur\n",
    "maze = [\n",
    "    [0, 1, 0, 0, 0],\n",
    "    [0, 1, 0, 1, 1],\n",
    "    [0, 0, 0, 1, 0],\n",
    "    [1, 1, 0, 0, 0],\n",
    "    [0, 0, 0, 1, 0]\n",
    "]\n",
    "\n",
    "n_rows = len(maze)\n",
    "n_cols = len(maze[0])\n",
    "\n",
    "## Definition des étapes\n",
    "state_space = [(i, j) for i in range(n_rows) for j in range(n_cols) if maze[i][j] == 0]\n",
    "\n",
    "#actions possibles\n",
    "actions = [\"haut\", \"bas\", \"gauche\", \"droite\"]\n",
    "actions_space = list(range(len(actions)))\n",
    "\n",
    "#Paramère de Q-Learning\n",
    "alpha = 0.8 # Taux d'apprentissage\n",
    "gamma = 0.95 # Facteur de réduction\n",
    "epsilon = 1.0 # Taux d'exploration initial\n",
    "epsilon_min = 0.01\n",
    "epsilon_max = 0.995\n",
    "num_episodes = 500\n"
   ],
   "outputs": [],
   "execution_count": 1
  }
 ],
 "metadata": {
  "kernelspec": {
   "display_name": "Python 3",
   "language": "python",
   "name": "python3"
  },
  "language_info": {
   "codemirror_mode": {
    "name": "ipython",
    "version": 2
   },
   "file_extension": ".py",
   "mimetype": "text/x-python",
   "name": "python",
   "nbconvert_exporter": "python",
   "pygments_lexer": "ipython2",
   "version": "2.7.6"
  }
 },
 "nbformat": 4,
 "nbformat_minor": 5
}
